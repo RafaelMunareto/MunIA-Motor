{
 "cells": [
  {
   "cell_type": "code",
   "execution_count": 56,
   "metadata": {},
   "outputs": [],
   "source": [
    "import numpy as np\n",
    "import pandas as pd\n",
    "import matplotlib.pyplot as plt\n",
    "import matplotlib.ticker as mticker\n"
   ]
  },
  {
   "cell_type": "code",
   "execution_count": 2,
   "metadata": {},
   "outputs": [],
   "source": [
    "score_boa_vista = pd.read_csv('base/score.txt', sep=';')\n",
    "modelo_treinado = pd.read_csv('resultados/resultado_final.csv', sep=',')"
   ]
  },
  {
   "cell_type": "code",
   "execution_count": 4,
   "metadata": {},
   "outputs": [
    {
     "data": {
      "text/plain": [
       "Index(['posicao_maxima', 'ScoreBVS', 'ID_VINCULO', 'co_ope', 'dias_atraso',\n",
       "       'dt_rec', 'dt_inc', 'dt_base', 'vlr_avista', 'vlr_base', 'vlr_pg',\n",
       "       'ic_14004', 'ic_13002', 'ic_ss', 'ic_rj', 'ic_tele', 'ic_sombreado',\n",
       "       'IC_ULTIMOS_LOTES', 'dt_nasc', 'sexo', 'renda', 'renda_liq', 'dt_relac',\n",
       "       'co_cart', 'co_prof', 'cep'],\n",
       "      dtype='object')"
      ]
     },
     "execution_count": 4,
     "metadata": {},
     "output_type": "execute_result"
    }
   ],
   "source": [
    "score_boa_vista.columns"
   ]
  },
  {
   "cell_type": "code",
   "execution_count": 5,
   "metadata": {},
   "outputs": [
    {
     "data": {
      "text/plain": [
       "Index(['Unnamed: 0', 'co_ope', 'dt_base', 'vlr_base', 'dt_nasc', 'sexo',\n",
       "       'renda', 'renda_liq', 'dt_relac', 'co_cart', 'co_prof', 'cep',\n",
       "       'predicao', 'score'],\n",
       "      dtype='object')"
      ]
     },
     "execution_count": 5,
     "metadata": {},
     "output_type": "execute_result"
    }
   ],
   "source": [
    "modelo_treinado.columns"
   ]
  },
  {
   "cell_type": "code",
   "execution_count": 46,
   "metadata": {},
   "outputs": [],
   "source": [
    "if len(modelo_treinado) == len(score_boa_vista):\n",
    "    modelo_treinado['ScoreBVS'] = score_boa_vista['ScoreBVS'] * 0.2\n",
    "    modelo_treinado['ID_VINCULO'] = score_boa_vista['ID_VINCULO']\n",
    "    modelo_treinado['pagou'] =  score_boa_vista['dt_rec'].apply(lambda x: 0 if pd.isna(x) else 1)\n",
    "else:\n",
    "    print(\"Os DataFrames não têm o mesmo número de linhas e não podem ser combinados diretamente.\")\n",
    "modelo_treinado.rename(columns={'score': 'MunaScore'}, inplace=True)\n",
    "modelo_treinado = modelo_treinado[['ID_VINCULO', 'co_ope', 'dt_base', 'vlr_base', 'dt_nasc', 'sexo', 'renda', 'renda_liq', 'dt_relac', 'co_cart', 'co_prof', 'cep', 'ScoreBVS', 'predicao', 'MunaScore', 'pagou']]"
   ]
  },
  {
   "cell_type": "code",
   "execution_count": 57,
   "metadata": {},
   "outputs": [
    {
     "data": {
      "text/html": [
       "<div>\n",
       "<style scoped>\n",
       "    .dataframe tbody tr th:only-of-type {\n",
       "        vertical-align: middle;\n",
       "    }\n",
       "\n",
       "    .dataframe tbody tr th {\n",
       "        vertical-align: top;\n",
       "    }\n",
       "\n",
       "    .dataframe thead th {\n",
       "        text-align: right;\n",
       "    }\n",
       "</style>\n",
       "<table border=\"1\" class=\"dataframe\">\n",
       "  <thead>\n",
       "    <tr style=\"text-align: right;\">\n",
       "      <th></th>\n",
       "      <th>ID_VINCULO</th>\n",
       "      <th>co_ope</th>\n",
       "      <th>dt_base</th>\n",
       "      <th>vlr_base</th>\n",
       "      <th>dt_nasc</th>\n",
       "      <th>sexo</th>\n",
       "      <th>renda</th>\n",
       "      <th>renda_liq</th>\n",
       "      <th>dt_relac</th>\n",
       "      <th>co_cart</th>\n",
       "      <th>co_prof</th>\n",
       "      <th>cep</th>\n",
       "      <th>ScoreBVS</th>\n",
       "      <th>predicao</th>\n",
       "      <th>MunaScore</th>\n",
       "      <th>pagou</th>\n",
       "      <th>faixa_ScoreBVS</th>\n",
       "      <th>faixa_MunaScore</th>\n",
       "    </tr>\n",
       "  </thead>\n",
       "  <tbody>\n",
       "    <tr>\n",
       "      <th>484050</th>\n",
       "      <td>{2B6FA4EB-9FD6-4EB5-8C4D-61DF30739785}</td>\n",
       "      <td>23</td>\n",
       "      <td>45104</td>\n",
       "      <td>11131.60</td>\n",
       "      <td>21441.0</td>\n",
       "      <td>1</td>\n",
       "      <td>5816.73</td>\n",
       "      <td>2808.3</td>\n",
       "      <td>35589.0</td>\n",
       "      <td>28</td>\n",
       "      <td>179</td>\n",
       "      <td>280</td>\n",
       "      <td>58.6</td>\n",
       "      <td>0</td>\n",
       "      <td>46.0</td>\n",
       "      <td>1</td>\n",
       "      <td>50-74.99</td>\n",
       "      <td>25-49.99</td>\n",
       "    </tr>\n",
       "    <tr>\n",
       "      <th>2150207</th>\n",
       "      <td>{529946B0-37BD-4E00-BC60-E135F92751D5}</td>\n",
       "      <td>20</td>\n",
       "      <td>45104</td>\n",
       "      <td>2599.74</td>\n",
       "      <td>31417.0</td>\n",
       "      <td>1</td>\n",
       "      <td>1465.70</td>\n",
       "      <td>1465.7</td>\n",
       "      <td>40908.0</td>\n",
       "      <td>65</td>\n",
       "      <td>234</td>\n",
       "      <td>647</td>\n",
       "      <td>62.6</td>\n",
       "      <td>1</td>\n",
       "      <td>90.0</td>\n",
       "      <td>1</td>\n",
       "      <td>50-74.99</td>\n",
       "      <td>75-100</td>\n",
       "    </tr>\n",
       "    <tr>\n",
       "      <th>470781</th>\n",
       "      <td>{DAD448C5-A56A-4AED-9F4F-C514C61A21A0}</td>\n",
       "      <td>46</td>\n",
       "      <td>45205</td>\n",
       "      <td>2620.46</td>\n",
       "      <td>32094.0</td>\n",
       "      <td>0</td>\n",
       "      <td>5035.92</td>\n",
       "      <td>4155.0</td>\n",
       "      <td>42269.0</td>\n",
       "      <td>11</td>\n",
       "      <td>396</td>\n",
       "      <td>14866</td>\n",
       "      <td>51.8</td>\n",
       "      <td>0</td>\n",
       "      <td>38.0</td>\n",
       "      <td>1</td>\n",
       "      <td>50-74.99</td>\n",
       "      <td>25-49.99</td>\n",
       "    </tr>\n",
       "  </tbody>\n",
       "</table>\n",
       "</div>"
      ],
      "text/plain": [
       "                                     ID_VINCULO  co_ope dt_base  vlr_base  \\\n",
       "484050   {2B6FA4EB-9FD6-4EB5-8C4D-61DF30739785}      23   45104  11131.60   \n",
       "2150207  {529946B0-37BD-4E00-BC60-E135F92751D5}      20   45104   2599.74   \n",
       "470781   {DAD448C5-A56A-4AED-9F4F-C514C61A21A0}      46   45205   2620.46   \n",
       "\n",
       "         dt_nasc  sexo    renda  renda_liq  dt_relac  co_cart  co_prof    cep  \\\n",
       "484050   21441.0     1  5816.73     2808.3   35589.0       28      179    280   \n",
       "2150207  31417.0     1  1465.70     1465.7   40908.0       65      234    647   \n",
       "470781   32094.0     0  5035.92     4155.0   42269.0       11      396  14866   \n",
       "\n",
       "         ScoreBVS  predicao  MunaScore  pagou faixa_ScoreBVS faixa_MunaScore  \n",
       "484050       58.6         0       46.0      1       50-74.99        25-49.99  \n",
       "2150207      62.6         1       90.0      1       50-74.99          75-100  \n",
       "470781       51.8         0       38.0      1       50-74.99        25-49.99  "
      ]
     },
     "execution_count": 57,
     "metadata": {},
     "output_type": "execute_result"
    }
   ],
   "source": [
    "modelo_treinado.sort_values('pagou', ascending=False).head(3)"
   ]
  },
  {
   "cell_type": "code",
   "execution_count": 58,
   "metadata": {},
   "outputs": [
    {
     "name": "stderr",
     "output_type": "stream",
     "text": [
      "/var/folders/b0/y_32dyyj3bqb0dh1yml2wpb5c3s8c9/T/ipykernel_87629/351343998.py:11: FutureWarning: The default of observed=False is deprecated and will be changed to True in a future version of pandas. Pass observed=False to retain current behavior or observed=True to adopt the future default and silence this warning.\n",
      "  contagem_ScoreBVS = modelo_treinado.groupby(['faixa_ScoreBVS', 'pagou']).size().unstack(fill_value=0)\n",
      "/var/folders/b0/y_32dyyj3bqb0dh1yml2wpb5c3s8c9/T/ipykernel_87629/351343998.py:12: FutureWarning: The default of observed=False is deprecated and will be changed to True in a future version of pandas. Pass observed=False to retain current behavior or observed=True to adopt the future default and silence this warning.\n",
      "  contagem_MunaScore = modelo_treinado.groupby(['faixa_MunaScore', 'pagou']).size().unstack(fill_value=0)\n"
     ]
    },
    {
     "data": {
      "image/png": "[encoded data removed]",
      "text/plain": [
       "<Figure size 1400x500 with 2 Axes>"
      ]
     },
     "metadata": {},
     "output_type": "display_data"
    }
   ],
   "source": [
    "\n",
    "def k_formatter(x, pos):\n",
    "    return f'{int(x/1000)}k'\n",
    "\n",
    "bins = [0, 25, 50, 75, 100]\n",
    "\n",
    "# Criando as faixas de score para 'ScoreBVS' e 'MunaScore'\n",
    "modelo_treinado['faixa_ScoreBVS'] = pd.cut(modelo_treinado['ScoreBVS'], bins, labels=[\"0-24.99\", \"25-49.99\", \"50-74.99\", \"75-100\"])\n",
    "modelo_treinado['faixa_MunaScore'] = pd.cut(modelo_treinado['MunaScore'], bins, labels=[\"0-24.99\", \"25-49.99\", \"50-74.99\", \"75-100\"])\n",
    "\n",
    "# Agrupando e contando por faixas\n",
    "contagem_ScoreBVS = modelo_treinado.groupby(['faixa_ScoreBVS', 'pagou']).size().unstack(fill_value=0)\n",
    "contagem_MunaScore = modelo_treinado.groupby(['faixa_MunaScore', 'pagou']).size().unstack(fill_value=0)\n",
    "\n",
    "# Configuração dos gráficos lado a lado\n",
    "fig, axes = plt.subplots(nrows=1, ncols=2, figsize=(14, 5))\n",
    "\n",
    "# Define a formatação do eixo y para 'k' usando a função auxiliar\n",
    "axes[0].yaxis.set_major_formatter(mticker.FuncFormatter(k_formatter))\n",
    "axes[1].yaxis.set_major_formatter(mticker.FuncFormatter(k_formatter))\n",
    "\n",
    "# Gráfico para 'ScoreBVS'\n",
    "contagem_ScoreBVS.plot(kind='bar', ax=axes[0], color=['blue', 'red'], title='ScoreBVS', rot=0)\n",
    "\n",
    "# Gráfico para 'MunaScore'\n",
    "contagem_MunaScore.plot(kind='bar', ax=axes[1], color=['blue', 'red'], title='MunaScore', rot=0)\n",
    "\n",
    "# Adicionando legendas\n",
    "axes[0].legend([\"Pagou\", \"Não Pagou\"])\n",
    "axes[1].legend([\"Pagou\", \"Não Pagou\"])\n",
    "\n",
    "# Ajustar layout\n",
    "plt.tight_layout()\n",
    "plt.show()"
   ]
  }
 ],
 "metadata": {
  "kernelspec": {
   "display_name": "env",
   "language": "python",
   "name": "python3"
  },
  "language_info": {
   "codemirror_mode": {
    "name": "ipython",
    "version": 3
   },
   "file_extension": ".py",
   "mimetype": "text/x-python",
   "name": "python",
   "nbconvert_exporter": "python",
   "pygments_lexer": "ipython3",
   "version": "3.12.1"
  }
 },
 "nbformat": 4,
 "nbformat_minor": 2
}
