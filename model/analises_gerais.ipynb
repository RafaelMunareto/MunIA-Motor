{
 "cells": [
  {
   "cell_type": "code",
   "execution_count": 20,
   "metadata": {},
   "outputs": [],
   "source": [
    "import numpy as np\n",
    "import pandas as pd\n",
    "import matplotlib.pyplot as plt\n",
    "import matplotlib.ticker as mticker\n",
    "import pickle\n",
    "import json\n",
    "import pprint\n"
   ]
  },
  {
   "cell_type": "code",
   "execution_count": 22,
   "metadata": {},
   "outputs": [],
   "source": [
    "with open('algoritimos/resultado_completos_metrica_algoritimos.pickle', 'rb') as file:\n",
    "   df = pickle.load(file)\n"
   ]
  },
  {
   "cell_type": "code",
   "execution_count": 23,
   "metadata": {},
   "outputs": [
    {
     "name": "stdout",
     "output_type": "stream",
     "text": [
      "{'fim': '2024-01-09 12:03:55',\n",
      " 'inicio': '2024-01-09 12:03:44',\n",
      " 'resultados': {'AdaBoost': {'accuracy': 0.9, 'confusion_matrix': [[134, 3], [12, 1]], 'cv_Accuracy': 0.9314285714285715, 'f1_score': 0.11764705882352941, 'precision': 0.25, 'recall': 0.07692307692307693, 'roc_auc': 0.7827063447501403},\n",
      "                'ExtraTrees': {'accuracy': 0.92, 'confusion_matrix': [[137, 0], [12, 1]], 'cv_Accuracy': 0.9457142857142857, 'f1_score': 0.14285714285714288, 'precision': 1.0, 'recall': 0.07692307692307693, 'roc_auc': 0.8259404828747894},\n",
      "                'GradientBoosting': {'accuracy': 0.9266666666666666, 'confusion_matrix': [[136, 1], [10, 3]], 'cv_Accuracy': 0.917142857142857, 'f1_score': 0.3529411764705882, 'precision': 0.75, 'recall': 0.23076923076923078, 'roc_auc': 0.759685569904548},\n",
      "                'KNeighbors': {'accuracy': 0.92, 'confusion_matrix': [[136, 1], [11, 2]], 'cv_Accuracy': 0.9400000000000001, 'f1_score': 0.25, 'precision': 0.6666666666666666, 'recall': 0.15384615384615385, 'roc_auc': 0.5794497473329591},\n",
      "                'LogisticRegression': {'accuracy': 0.9133333333333333, 'confusion_matrix': [[137, 0], [13, 0]], 'cv_Accuracy': 0.9257142857142858, 'f1_score': 0.0, 'precision': 0.0, 'recall': 0.0, 'roc_auc': 0.686692869174621},\n",
      "                'RandomForest': {'accuracy': 0.92, 'confusion_matrix': [[137, 0], [12, 1]], 'cv_Accuracy': 0.9428571428571428, 'f1_score': 0.14285714285714288, 'precision': 1.0, 'recall': 0.07692307692307693, 'roc_auc': 0.8736664795058956},\n",
      "                'Rede Neural': {'accuracy': 0.9133333333333333, 'confusion_matrix': [[135, 2], [11, 2]], 'cv_Accuracy': 0.9428571428571428, 'f1_score': 0.23529411764705882, 'precision': 0.5, 'recall': 0.15384615384615385, 'roc_auc': 0.7001684446939922},\n",
      "                'XBoost': {'accuracy': 0.92, 'confusion_matrix': [[135, 2], [10, 3]], 'cv_Accuracy': 0.9400000000000001, 'f1_score': 0.33333333333333337, 'precision': 0.6, 'recall': 0.23076923076923078, 'roc_auc': 0.8293093767546322},\n",
      "                'bestModel': {'accuracy': 0.92,\n",
      "                              'confusion_matrix': [[137, 0], [12, 1]],\n",
      "                              'cv_accuracy': 0.9342857142857144,\n",
      "                              'f1_score': 0.14285714285714288,\n",
      "                              'fim_mc': '2024-01-09 12:05:23',\n",
      "                              'inicio_mc': '2024-01-09 12:05:13',\n",
      "                              'precision': 1.0,\n",
      "                              'predict': [0, 0, 0, 0, 0],\n",
      "                              'proba': [0.1065087027897372, 0.06178050442932989, 0.03701005267923018, 0.06543063796534604, 0.05369461715071137],\n",
      "                              'recall': 0.07692307692307693,\n",
      "                              'roc_auc': 0.8135878719820325,\n",
      "                              'test_accuracy': 0.92}}}\n"
     ]
    }
   ],
   "source": [
    "pp = pprint.PrettyPrinter(width=400, compact=True)\n",
    "pp.pprint(df)"
   ]
  }
 ],
 "metadata": {
  "kernelspec": {
   "display_name": "env",
   "language": "python",
   "name": "python3"
  },
  "language_info": {
   "codemirror_mode": {
    "name": "ipython",
    "version": 3
   },
   "file_extension": ".py",
   "mimetype": "text/x-python",
   "name": "python",
   "nbconvert_exporter": "python",
   "pygments_lexer": "ipython3",
   "version": "3.12.1"
  }
 },
 "nbformat": 4,
 "nbformat_minor": 2
}
